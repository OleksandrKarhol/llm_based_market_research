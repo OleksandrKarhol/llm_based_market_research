{
 "cells": [
  {
   "cell_type": "code",
   "execution_count": 2,
   "metadata": {},
   "outputs": [],
   "source": [
    "import requests\n",
    "from bs4 import BeautifulSoup\n",
    "import re\n",
    "import argparse\n",
    "import pandas as pd"
   ]
  },
  {
   "cell_type": "code",
   "execution_count": 3,
   "metadata": {},
   "outputs": [],
   "source": [
    "def scrape_text(url):\n",
    "    \"\"\"\n",
    "    Scrape text content from a given URL.\n",
    "    \n",
    "    Args:\n",
    "        url (str): The URL to scrape\n",
    "        \n",
    "    Returns:\n",
    "        str: The cleaned text content from the webpage\n",
    "    \"\"\"\n",
    "    # Send a GET request to the URL\n",
    "    try:\n",
    "        response = requests.get(url)\n",
    "        response.raise_for_status()  # Raise an exception for bad status codes\n",
    "    except requests.RequestException as e:\n",
    "        print(f\"Error fetching the webpage: {e}\")\n",
    "        return None\n",
    "\n",
    "    # Create a BeautifulSoup object\n",
    "    soup = BeautifulSoup(response.text, 'html.parser')\n",
    "    \n",
    "    # Remove script and style elements\n",
    "    for script in soup([\"script\", \"style\"]):\n",
    "        script.decompose()\n",
    "    \n",
    "    # Get text content\n",
    "    text = soup.get_text()\n",
    "    \n",
    "    # Clean up the text\n",
    "    text = re.sub(r'\\n+', '\\n', text)  # Replace multiple newlines with single newline\n",
    "    text = re.sub(r'\\s+', ' ', text)   # Replace multiple spaces with single space\n",
    "    text = text.strip()                 # Remove leading/trailing whitespace\n",
    "    \n",
    "    return text"
   ]
  },
  {
   "cell_type": "code",
   "execution_count": 4,
   "metadata": {},
   "outputs": [],
   "source": [
    "def process_csv(file_path):\n",
    "    \"\"\"\n",
    "    Process a CSV file and save the results to a new CSV file.\n",
    "    \n",
    "    Args:\n",
    "        file_path (str): The path to the input CSV file\n",
    "\n",
    "    \"\"\"\n",
    "\n",
    "    data = pd.read_csv(file_path)\n",
    "    for index, row in data.iterrows():\n",
    "        url = row['Case study link']\n",
    "        try:\n",
    "            text = scrape_text(url)\n",
    "            data.loc[index, 'text'] = text\n",
    "            print(f\"Scraped text from {url}\")\n",
    "        except Exception as e:\n",
    "            print(f\"Error scraping text from {url}: {e}\")\n",
    "            data.loc[index, 'text'] = ''\n",
    "    \n",
    "    data.to_csv('data/case_studies_scraped.csv', index=False)"
   ]
  },
  {
   "cell_type": "code",
   "execution_count": 5,
   "metadata": {},
   "outputs": [
    {
     "name": "stdout",
     "output_type": "stream",
     "text": [
      "Scraped text from https://floatbot.ai/case-studies/utility-case-study\n",
      "Scraped text from  https://www.assembled.com/case-study/autodesk\n",
      "Error fetching the webpage: 405 Client Error: Not Allowed for url: https://content.aisera.com/case-studies/reputation\n",
      "Scraped text from https://content.aisera.com/case-studies/reputation\n",
      "Scraped text from https://www.assembled.com/case-study/brooks-running\n",
      "Scraped text from https://www.salesloft.com/resources/case-studies/better-leads-with-bionic-chatbots\n",
      "Scraped text from https://www.assembled.com/case-study/capital-on-tap\n",
      "Scraped text from https://www.assembled.com/case-study/classpass\n",
      "Scraped text from https://www.intercom.com/customers/code-for-america\n",
      "Scraped text from https://www.iadvize.com/en/success-story/vanden-borre\n",
      "Error fetching the webpage: 404 Client Error: Not Found for url: https://www.assembled.com/case-study/dailypay\n",
      "Scraped text from https://www.assembled.com/case-study/dailypay\n",
      "Scraped text from https://chatfuel.com/success-stories/photobooth-deluxe-ecommerce\n",
      "Scraped text from https://chatfuel.com/success-stories/argomall-ecommerce\n",
      "Scraped text from https://thelevel.ai/case-studies/elevating-customer-support-efficiency-in-e-commerce-with-level-ai/\n",
      "Scraped text from https://floatbot.ai/case-studies/ubi-agent-assist-case-study\n"
     ]
    }
   ],
   "source": [
    "path = 'data/case_studies_links.csv'\n",
    "process_csv(path)"
   ]
  }
 ],
 "metadata": {
  "kernelspec": {
   "display_name": "Python 3",
   "language": "python",
   "name": "python3"
  },
  "language_info": {
   "codemirror_mode": {
    "name": "ipython",
    "version": 3
   },
   "file_extension": ".py",
   "mimetype": "text/x-python",
   "name": "python",
   "nbconvert_exporter": "python",
   "pygments_lexer": "ipython3",
   "version": "3.9.6"
  }
 },
 "nbformat": 4,
 "nbformat_minor": 2
}
